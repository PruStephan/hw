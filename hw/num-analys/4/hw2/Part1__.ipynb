{
 "cells": [
  {
   "cell_type": "code",
   "execution_count": 31,
   "metadata": {},
   "outputs": [],
   "source": [
    "import numpy as np\n",
    "import math\n",
    "import matplotlib.pyplot as plt\n",
    "import imageio\n",
    "from tqdm.notebook import tnrange, tqdm_notebook"
   ]
  },
  {
   "cell_type": "markdown",
   "metadata": {},
   "source": [
    "## Set parameters"
   ]
  },
  {
   "cell_type": "code",
   "execution_count": 32,
   "metadata": {},
   "outputs": [],
   "source": [
    "#u = 5e-7\n",
    "u = 0\n",
    "#chi = 0\n",
    "chi = 8e-12\n",
    "\n",
    "dx = 4e-7\n",
    "dt = 0.01\n",
    "\n",
    "s = u * dt / dx\n",
    "r = chi * dt / (dx ** 2)\n",
    "\n",
    "\n",
    "teta = 5\n",
    "a = 0\n",
    "b = 1e-4\n",
    "\n",
    "K = int((b - a) / dx) + 1\n",
    "\n",
    "start = np.zeros(K, dtype=np.float64)\n",
    "for i in range(K // 2):\n",
    "    start[i] = 1."
   ]
  },
  {
   "cell_type": "markdown",
   "metadata": {},
   "source": [
    "## Define functions"
   ]
  },
  {
   "cell_type": "code",
   "execution_count": 36,
   "metadata": {},
   "outputs": [],
   "source": [
    "def solve_linear(a, b, c, d):\n",
    "    nf = len(d)\n",
    "    ac, bc, cc, dc = map(np.array, (a, b, c, d))\n",
    "    for it in range(1, nf):\n",
    "        mc = ac[it - 1] / bc[it - 1]\n",
    "        bc[it] = bc[it] - mc * cc[it - 1]\n",
    "        dc[it] = dc[it] - mc * dc[it - 1]\n",
    "    xc = bc\n",
    "    xc[-1] = dc[-1] / bc[-1]\n",
    "\n",
    "    for il in range(nf - 2, -1, -1):\n",
    "        xc[il] = (dc[il] - cc[il] * xc[il + 1]) / bc[il]\n",
    "\n",
    "    return xc\n",
    "\n",
    "def get_dt(dx, u, chi, coeff=0.9):\n",
    "    return coeff * (dx ** 2) / (u * dx + 2 * chi)\n",
    "\n",
    "\n",
    "\n",
    "\n",
    "def left_border(t):\n",
    "    return 0\n",
    "\n",
    "\n",
    "def right_border(t):\n",
    "    return 0\n",
    "\n",
    "\n",
    "def solve(solver):\n",
    "    t_iterations = int(teta / dt) + 1\n",
    "\n",
    "    Ts = []\n",
    "    Ts.append(start)\n",
    "\n",
    "    for cur_t_iter in range(1, t_iterations + 1):\n",
    "        t = dt * cur_t_iter\n",
    "        cur = solver(t, Ts)\n",
    "        Ts.append(cur)\n",
    "\n",
    "    return Ts\n",
    "\n",
    "\n",
    "def explicit_opposite(t, Ts):\n",
    "    cur = np.zeros(K, dtype=np.float64)\n",
    "\n",
    "    for i in range(K):\n",
    "        prev_t = Ts[-1][i - 1] if i > 0 else left_border(t)\n",
    "        next_t = Ts[-1][i + 1] if i < K - 1 else right_border(t)\n",
    "        cur_t = Ts[-1][i]\n",
    "\n",
    "        cur[i] = cur_t + r * (prev_t + next_t - 2 * cur_t)\n",
    "\n",
    "    return cur\n",
    "\n",
    "\n",
    "def explicit_nonopposite(t, Ts):\n",
    "    cur = np.zeros(K, dtype=np.float64)\n",
    "\n",
    "    for i in range(K):\n",
    "        prev_t = Ts[-1][i - 1] if i > 0 else left_border(t)\n",
    "        next_t = Ts[-1][i + 1] if i < K - 1 else right_border(t)\n",
    "        cur_t = Ts[-1][i]\n",
    "\n",
    "        cur[i] = cur_t - s * (next_t - cur_t) + r * (prev_t + next_t - 2 * cur_t)\n",
    "\n",
    "    return cur\n",
    "\n",
    "\n",
    "def confusion(t, Ts):\n",
    "    #assert math.isclose(chi, 0.)\n",
    "\n",
    "    if len(Ts) == 1:\n",
    "        return explicit_opposite(t, Ts)\n",
    "\n",
    "    cur = np.zeros(K, dtype=np.float64)\n",
    "\n",
    "    for i in range(K):\n",
    "        prev_t = Ts[-1][i - 1] if i > 0 else left_border(t)\n",
    "        next_t = Ts[-1][i + 1] if i < K - 1 else right_border(t)\n",
    "        cur_t = Ts[-2][i]\n",
    "\n",
    "        cur[i] = cur_t - s * (next_t - prev_t)\n",
    "\n",
    "    return cur\n",
    "\n",
    "\n",
    "def implicit_opposite(t, Ts):\n",
    "    a = np.zeros(K - 1, dtype=np.float64)\n",
    "    b = np.zeros(K, dtype=np.float64)\n",
    "    c = np.zeros(K - 1, dtype=np.float64)\n",
    "    d = np.zeros(K, dtype=np.float64)\n",
    "\n",
    "    for i in range(K):\n",
    "        b[i] = 1 + s + 2 * r\n",
    "        d[i] = Ts[-1][i]\n",
    "    d[0] += left_border(t) * (r + s)\n",
    "    d[K - 1] += right_border(t) * r\n",
    "    for i in range(K - 1):\n",
    "        a[i] = - r - s\n",
    "        c[i] = -r\n",
    "    return solve_linear(a, b, c, d)\n",
    "\n",
    "\n",
    "def implicit_nonopposite(t, Ts):\n",
    "    a = np.zeros(K - 1, dtype=np.float64)\n",
    "    b = np.zeros(K, dtype=np.float64)\n",
    "    c = np.zeros(K - 1, dtype=np.float64)\n",
    "    d = np.zeros(K, dtype=np.float64)\n",
    "\n",
    "    for i in range(K):\n",
    "        b[i] = 1 - s + 2 * r\n",
    "        d[i] = Ts[-1][i]\n",
    "    d[0] += left_border(t) * r\n",
    "    d[K - 1] -= right_border(t) * (s - r)\n",
    "\n",
    "    for i in range(K - 1):\n",
    "        a[i] = -r\n",
    "        c[i] = s - r\n",
    "\n",
    "    return solve_linear(a, b, c, d)\n",
    "\n",
    "\n",
    "def plot_img(cur_index, Ts, xs, y_min, y_max):\n",
    "    fig, ax = plt.subplots(figsize=(10, 5))\n",
    "    ax.plot(xs, Ts[cur_index])\n",
    "\n",
    "    ax.set_ylim(y_min, y_max)\n",
    "    ax.set_xlim(0, 1e-4)\n",
    "    \n",
    "\n",
    "    fig.canvas.draw()\n",
    "    image = np.frombuffer(fig.canvas.tostring_rgb(), dtype='uint8')\n",
    "    image = image.reshape(fig.canvas.get_width_height()[::-1] + (3,))\n",
    "\n",
    "    plt.close(fig)\n",
    "\n",
    "    return image\n",
    "\n"
   ]
  },
  {
   "cell_type": "code",
   "execution_count": 37,
   "metadata": {},
   "outputs": [],
   "source": [
    "def run(method, filename, kappa_p, u_p, y_min='auto', y_max='auto'):\n",
    "    global kappa, u\n",
    "    global kappa = kappa_p\n",
    "    u = u_p\n",
    "    \n",
    "    Ts = solve(method)\n",
    "\n",
    "    print(len(Ts))\n",
    "\n",
    "    xs = [\n",
    "        a + i * dx\n",
    "        for i in range(K)\n",
    "    ]\n",
    "    \n",
    "    if y_min == 'auto':\n",
    "        y_min = max(-1e13, np.min(np.array(Ts)))\n",
    "    \n",
    "    if y_max == 'auto':\n",
    "        y_max = min(1e13, np.max(np.array(Ts)))\n",
    "\n",
    "\n",
    "    frames = [\n",
    "        plot_img(i, Ts, xs, y_min, y_max)\n",
    "        for i in tqdm_notebook(range(len(Ts)))\n",
    "        if i % 3 == 0\n",
    "    ]\n",
    "    imageio.mimsave(filename, frames, fps=24)"
   ]
  },
  {
   "cell_type": "code",
   "execution_count": 38,
   "metadata": {},
   "outputs": [
    {
     "name": "stdout",
     "output_type": "stream",
     "text": [
      "502\n"
     ]
    },
    {
     "data": {
      "application/vnd.jupyter.widget-view+json": {
       "model_id": "9ef7babbc5f64c0bb46bcd4136e35521",
       "version_major": 2,
       "version_minor": 0
      },
      "text/plain": [
       "HBox(children=(FloatProgress(value=0.0, max=502.0), HTML(value='')))"
      ]
     },
     "metadata": {},
     "output_type": "display_data"
    },
    {
     "name": "stdout",
     "output_type": "stream",
     "text": [
      "\n"
     ]
    }
   ],
   "source": [
    "run(explicit_opposite, './kappa0/exp_opp.gif', 0, 5e-7)"
   ]
  },
  {
   "cell_type": "code",
   "execution_count": 39,
   "metadata": {},
   "outputs": [
    {
     "name": "stdout",
     "output_type": "stream",
     "text": [
      "502\n"
     ]
    },
    {
     "data": {
      "application/vnd.jupyter.widget-view+json": {
       "model_id": "5d5617d78bf441f589572913fbc24e8d",
       "version_major": 2,
       "version_minor": 0
      },
      "text/plain": [
       "HBox(children=(FloatProgress(value=0.0, max=502.0), HTML(value='')))"
      ]
     },
     "metadata": {},
     "output_type": "display_data"
    },
    {
     "name": "stdout",
     "output_type": "stream",
     "text": [
      "\n"
     ]
    }
   ],
   "source": [
    "run(explicit_opposite, './u0/exp_opp.gif', 8e-12, 0)"
   ]
  },
  {
   "cell_type": "code",
   "execution_count": 16,
   "metadata": {},
   "outputs": [
    {
     "data": {
      "text/plain": [
       "0.0125"
      ]
     },
     "execution_count": 16,
     "metadata": {},
     "output_type": "execute_result"
    }
   ],
   "source": [
    "s"
   ]
  },
  {
   "cell_type": "code",
   "execution_count": 13,
   "metadata": {},
   "outputs": [
    {
     "data": {
      "text/plain": [
       "0.0"
      ]
     },
     "execution_count": 13,
     "metadata": {},
     "output_type": "execute_result"
    }
   ],
   "source": [
    "r"
   ]
  }
 ],
 "metadata": {
  "kernelspec": {
   "display_name": "Python 3",
   "language": "python",
   "name": "python3"
  },
  "language_info": {
   "codemirror_mode": {
    "name": "ipython",
    "version": 3
   },
   "file_extension": ".py",
   "mimetype": "text/x-python",
   "name": "python",
   "nbconvert_exporter": "python",
   "pygments_lexer": "ipython3",
   "version": "3.7.6"
  }
 },
 "nbformat": 4,
 "nbformat_minor": 4
}
