{
 "cells": [
  {
   "cell_type": "code",
   "execution_count": 2,
   "metadata": {},
   "outputs": [],
   "source": [
    "import numpy as np"
   ]
  },
  {
   "cell_type": "code",
   "execution_count": 31,
   "metadata": {},
   "outputs": [],
   "source": [
    "\n",
    "\n",
    "def init_basic(mode):\n",
    "    global t_start, x_start, K, E, alpha, dz, a, b, z_steps, t_steps, teta, dt, r_X, r_T, D, kappa, Q, C, R, T0, Tm\n",
    "    K = 1.6e6\n",
    "    E = 8e4\n",
    "    alpha = 0.5\n",
    "    dz = 1e-4\n",
    "    dt = 1e-1\n",
    "    a = 0\n",
    "    b = 3e-2\n",
    "    D = 8e-8\n",
    "    R = 8.31\n",
    "    ro = 830\n",
    "    C = 1990\n",
    "    Q = 7e5\n",
    "    T0 = 293\n",
    "    Tm = T0 + Q / C\n",
    "    lambd = 0.13\n",
    "    kappa = lambd / (ro * C)\n",
    "    z_steps = int((b - a) / dz)\n",
    "    teta = 1000\n",
    "    t_steps = int(teta / dt)\n",
    "    t_start = np.zeros(z_steps, dtype=np.float64)\n",
    "    x_start = np.zeros(z_steps, dtype=np.float64)\n",
    "    r_X = D * dt / (dz ** 2)\n",
    "    r_T = kappa * dt / (dz ** 2)\n",
    "    \n",
    "    if mode == 'regular':\n",
    "        D = 8e-8\n",
    "        K = 1.6e6\n",
    "        E = 8e4\n",
    "    \n",
    "    if mode == '2period':\n",
    "        D = 8e-12\n",
    "        K = 4.6e6\n",
    "        E = 8.5e4\n",
    "    \n",
    "    if mode == 'chaos':\n",
    "        D = 8e-12\n",
    "        K = 1e8\n",
    "        E = 1.02e5\n",
    "    \n",
    "\n",
    "def W(X, T):\n",
    "    return -K * (X ** alpha) * np.exp(-E / (R * T))"
   ]
  },
  {
   "cell_type": "code",
   "execution_count": 32,
   "metadata": {},
   "outputs": [],
   "source": [
    "def solve(solver):\n",
    "    Ts = [t_start]\n",
    "    Xs = [x_start]\n",
    "    \n",
    "    for cur_iter in range(1, t_steps + 1):\n",
    "        t = dt * cur_iter\n",
    "        cur_t, cur_x = solver(t, Ts[-1], Xs[-1])\n",
    "        Ts.append(cur_t)\n",
    "        Xs.append(cur_x)\n",
    "\n",
    "    return Ts, Xs"
   ]
  },
  {
   "cell_type": "code",
   "execution_count": 33,
   "metadata": {},
   "outputs": [],
   "source": [
    "def explicit_opposite(t, prevT, prevX):\n",
    "    next_t_row = np.zeros(z_steps, dtype=np.float64)\n",
    "    next_x_row = np.zeros(z_steps, dtype=np.float64)\n",
    "    \n",
    "    for i in range(1, z_steps - 1):\n",
    "        prev_t = prevT[i - 1]\n",
    "        next_t = prevT[i + 1]\n",
    "        cur_t = prevT[i]\n",
    "        \n",
    "        prev_x = prevX[i - 1]\n",
    "        next_x = prevX[i + 1]\n",
    "        cur_x = prevX[i]\n",
    "        \n",
    "        next_t_row[i] = cur_t + r_T * (prev_t + next_t - 2 * cur_t) - Q/C * dt * W(cur_x, cur_t)\n",
    "        next_x_row[i] = cur_x + r_X * (prev_x + next_x - 2 * cur_x) + dt * W(cur_x, cur_t)\n",
    "    \n",
    "    next_t_row[0] = Tm\n",
    "    next_t_row[z_steps - 1] = next_t_row[z_steps - 2]\n",
    "    \n",
    "    next_x_row[0] = 0\n",
    "    next_x_row[z_steps - 1] = next_x_row[z_steps - 2]\n",
    "    return next_t_row, next_x_row"
   ]
  },
  {
   "cell_type": "code",
   "execution_count": null,
   "metadata": {},
   "outputs": [
    {
     "name": "stderr",
     "output_type": "stream",
     "text": [
      "/usr/local/lib/python3.7/site-packages/ipykernel_launcher.py:44: RuntimeWarning: divide by zero encountered in double_scalars\n",
      "/usr/local/lib/python3.7/site-packages/ipykernel_launcher.py:44: RuntimeWarning: overflow encountered in exp\n",
      "/usr/local/lib/python3.7/site-packages/ipykernel_launcher.py:44: RuntimeWarning: invalid value encountered in double_scalars\n"
     ]
    }
   ],
   "source": [
    "init_basic('regular')\n",
    "# print(t_start)\n",
    "Ts, Xs = solve(explicit_opposite)"
   ]
  },
  {
   "cell_type": "code",
   "execution_count": null,
   "metadata": {},
   "outputs": [],
   "source": [
    "len(Ts[0])"
   ]
  },
  {
   "cell_type": "code",
   "execution_count": null,
   "metadata": {},
   "outputs": [],
   "source": [
    "np.max(Ts)"
   ]
  },
  {
   "cell_type": "code",
   "execution_count": null,
   "metadata": {},
   "outputs": [],
   "source": [
    "import matplotlib.pyplot as plt\n",
    "from matplotlib.animation import FuncAnimation\n",
    "\n",
    "\n",
    "def create_animation(target, ymax):\n",
    "\n",
    "    fig = plt.figure()\n",
    "    ax = plt.axes(xlim=(a, b), ylim=(0, ymax))\n",
    "\n",
    "    line, = ax.plot([], [])\n",
    "\n",
    "    def init():\n",
    "        line.set_data([], [])\n",
    "        return line,\n",
    "\n",
    "    def animate(i):\n",
    "        z = np.linspace(a, b, 300)\n",
    "        T = target[i * 100]\n",
    "        line.set_data(z, T)\n",
    "        return line,\n",
    "    \n",
    "    \n",
    "    anim = FuncAnimation(fig, animate, init_func=init, frames=490, interval=30)\n",
    "\n",
    "    return anim\n"
   ]
  },
  {
   "cell_type": "code",
   "execution_count": null,
   "metadata": {},
   "outputs": [],
   "source": [
    "T_from_z = create_animation(Ts, 700)\n",
    "T_from_z.save('t_from_z.gif', writer='imagemagick')\n",
    "X_from_z = create_animation(Xs, 1.2)\n",
    "X_from_z.save('x_from_z.gif', writer='imagemagick')"
   ]
  },
  {
   "cell_type": "code",
   "execution_count": null,
   "metadata": {},
   "outputs": [],
   "source": []
  }
 ],
 "metadata": {
  "kernelspec": {
   "display_name": "Python 3",
   "language": "python",
   "name": "python3"
  },
  "language_info": {
   "codemirror_mode": {
    "name": "ipython",
    "version": 3
   },
   "file_extension": ".py",
   "mimetype": "text/x-python",
   "name": "python",
   "nbconvert_exporter": "python",
   "pygments_lexer": "ipython3",
   "version": "3.7.6"
  }
 },
 "nbformat": 4,
 "nbformat_minor": 4
}
