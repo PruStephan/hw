{
 "cells": [
  {
   "cell_type": "code",
   "execution_count": 201,
   "metadata": {},
   "outputs": [],
   "source": [
    "import numpy as np\n",
    "from scipy.linalg import solve_banded"
   ]
  },
  {
   "cell_type": "code",
   "execution_count": 208,
   "metadata": {},
   "outputs": [],
   "source": [
    "def init_basic(mode):\n",
    "    global t_start, x_start, K, E, alpha, dz, a, b, z_steps, t_steps, teta, dt, r_X, r_T, D, kappa, Q, C, R, T0, Tm, U\n",
    "    \n",
    "    if mode == 'regular':\n",
    "        D = 8e-8\n",
    "        K = 1.6e6\n",
    "        E = 1e4\n",
    "    \n",
    "    if mode == '2period':\n",
    "        D = 8e-12\n",
    "        K = 4.6e6\n",
    "        E = 8.5e4\n",
    "    \n",
    "    if mode == 'chaos':\n",
    "        D = 8e-12\n",
    "        K = 1e8\n",
    "        E = 1.02e5  \n",
    "    D = 8e-8\n",
    "    alpha = 0.5\n",
    "    dz = 1e-4\n",
    "    dt = 1e-2\n",
    "    a = 0\n",
    "    b = 3e-2\n",
    "    R = 8.31\n",
    "    ro = 830\n",
    "    C = 1990\n",
    "    Q = 7e5\n",
    "    T0 = 293\n",
    "    Tm = T0 + Q / C\n",
    "    lambd = 0.13\n",
    "    kappa = lambd / (ro * C)\n",
    "    z_steps = int((b - a) / dz)\n",
    "    teta = 500\n",
    "    t_steps = int(teta / dt)\n",
    "    t_start = np.zeros(z_steps, dtype=np.float64)\n",
    "    x_start = np.zeros(z_steps, dtype=np.float64)\n",
    "    r_X = D * dt / (dz ** 2)\n",
    "    r_T = kappa * dt / (dz ** 2)\n",
    "    U = (2 * K * lambd / (Q * ro * Q / C) * T0 / Tm * ((R * Tm * Tm / E) ** 2) * np.exp(-E / (R * Tm))) ** 0.5\n",
    "    \n",
    "            \n",
    "    t_start[0] = Tm\n",
    "    x_start[0] = 0\n",
    "    for i in range(1, z_steps):\n",
    "        t_start[i] = T0\n",
    "        x_start[i] = 1\n",
    "    \n",
    "\n",
    "def W(X, T):\n",
    "    return -K * (X ** alpha) * np.exp(-E / (R * T))"
   ]
  },
  {
   "cell_type": "code",
   "execution_count": 209,
   "metadata": {},
   "outputs": [],
   "source": [
    "K = 1e8\n",
    "E = 1.02e5\n",
    "alpha = 1.0\n",
    "Q = 7e5\n",
    "ro = 830\n",
    "C = 1990\n",
    "lambd = 0.13\n",
    "D = 8e-12\n",
    "R = 8.31\n",
    "T0 = 293 # начальная температура\n",
    "Tm = T0 + Q / C # конечная температура\n",
    "kappa = lambd / (ro * C)\n",
    "U = (2 * K * lambd / (Q * ro * Q / C) * T0 / Tm * ((R * Tm * Tm / E) ** 2) * np.exp(-E / (R * Tm))) ** 0.5\n",
    "beta = R * Tm / E\n",
    "gamma = R * Tm * Tm / (E * Q / C)\n",
    "delta_h = kappa / U\n",
    "delta_r = beta * delta_h\n",
    "delta_d = D / U\n",
    "Le = delta_d / delta_h\n",
    "\n",
    "# Регулярный режим\n",
    "# D = 8e-8\n",
    "# K = 1.6e6\n",
    "# E = 8e4\n",
    "\n",
    "# Двухпериодический режим\n",
    "# D = 8e-12\n",
    "# K = 4.6e6\n",
    "# E = 8.5e4\n",
    "\n",
    "# Хаос\n",
    "# D = 8e-12\n",
    "# K = 1e8\n",
    "# E = 1.02e5\n",
    "\n",
    "b = 3e-2\n",
    "dz = 1e-4\n",
    "z_steps = int((b-a) / dz)\n",
    "\n",
    "teta = 500\n",
    "dt = 1e-2\n",
    "t_steps = int(teta / dt)\n",
    "\n",
    "r_X = D * dt / (dz ** 2)\n",
    "r_T = kappa * dt / (dz ** 2)\n",
    "\n",
    "\n",
    "t_start = np.zeros(z_steps, dtype=np.float64)\n",
    "x_start = np.zeros(z_steps, dtype=np.float64)\n",
    "\n",
    "for i in range(1):\n",
    "    t_start[i] = Tm\n",
    "    x_start[i] = 0\n",
    "for i in range(1, z_steps):\n",
    "    t_start[i] = T0\n",
    "    x_start[i] = 1"
   ]
  },
  {
   "cell_type": "code",
   "execution_count": 199,
   "metadata": {},
   "outputs": [],
   "source": [
    "def W_vectorized(X, T):\n",
    "    return -K*np.multiply((np.power(X, alpha)), np.exp(-E/R * np.reciprocal(T)))"
   ]
  },
  {
   "cell_type": "code",
   "execution_count": 186,
   "metadata": {},
   "outputs": [],
   "source": [
    "def solve(solver):\n",
    "    Ts = [t_start]\n",
    "    Xs = [x_start]\n",
    "    \n",
    "    for cur_iter in range(1, t_steps + 1):\n",
    "#         print(cur_iter)\n",
    "#         print(Xs[0], end='\\n\\n\\n')\n",
    "        t = dt * cur_iter\n",
    "        cur_t, cur_x = solver(t, Ts[-1], Xs[-1])\n",
    "        Ts.append(cur_t)\n",
    "        Xs.append(cur_x)\n",
    "\n",
    "    return Ts, Xs"
   ]
  },
  {
   "cell_type": "code",
   "execution_count": 187,
   "metadata": {},
   "outputs": [],
   "source": [
    "def explicit_opposite(t, prevT, prevX):\n",
    "    next_t_row = np.zeros(z_steps, dtype=np.float64)\n",
    "    next_x_row = np.zeros(z_steps, dtype=np.float64)\n",
    "    \n",
    "    for i in range(1, z_steps - 1):\n",
    "        prev_t = prevT[i - 1]\n",
    "        next_t = prevT[i + 1]\n",
    "        cur_t = prevT[i]\n",
    "        \n",
    "        prev_x = prevX[i - 1]\n",
    "        next_x = prevX[i + 1]\n",
    "        cur_x = prevX[i]\n",
    "        \n",
    "        next_t_row[i] = cur_t + r_T * (prev_t + next_t - 2 * cur_t) - Q/C * dt * W(cur_x, cur_t)\n",
    "        next_x_row[i] = cur_x + r_X * (prev_x + next_x - 2 * cur_x) + dt * W(cur_x, cur_t)\n",
    "    \n",
    "    next_t_row[0] = Tm\n",
    "    next_t_row[z_steps - 1] = next_t_row[z_steps - 2]\n",
    "    \n",
    "    next_x_row[0] = 0\n",
    "    next_x_row[z_steps - 1] = next_x_row[z_steps - 2]\n",
    "    return next_t_row, next_x_row\n"
   ]
  },
  {
   "cell_type": "code",
   "execution_count": 193,
   "metadata": {},
   "outputs": [],
   "source": [
    "def solve_linear(a, b, c, d):\n",
    "    nf = len(d)\n",
    "    ac, bc, cc, dc = map(np.array, (a, b, c, d))\n",
    "    for it in range(1, nf):\n",
    "        mc = ac[it - 1] / bc[it - 1]\n",
    "        bc[it] = bc[it] - mc * cc[it - 1] \n",
    "        dc[it] = dc[it] - mc * dc[it - 1]\n",
    "    xc = bc\n",
    "    xc[-1] = dc[-1] / bc[-1]\n",
    "    for il in range(nf - 2, -1, -1):\n",
    "        xc[il] = (dc[il] - cc[il] * xc[il + 1]) / bc[il]\n",
    "    return xc\n"
   ]
  },
  {
   "cell_type": "code",
   "execution_count": 194,
   "metadata": {},
   "outputs": [],
   "source": [
    "def implicit(t, prevT, prevX):\n",
    "    T_r = dt * kappa / (dz ** 2)\n",
    "    X_r = dt * D / (dz ** 2)\n",
    "    \n",
    "    T_a = np.repeat(T_r, z_steps)\n",
    "    T_b = np.repeat(-1 - 2 * T_r, z_steps)\n",
    "    T_c = np.repeat(T_r, z_steps)\n",
    "    T_a[-2] = 0\n",
    "    T_b[0] = 1\n",
    "    T_b[z_steps - 1] = 1\n",
    "    T_c[1] = 0\n",
    "    \n",
    "    X_a = np.repeat(X_r, z_steps)\n",
    "    X_b = np.repeat(-1 - 2 * X_r, z_steps)\n",
    "    X_c = np.repeat(X_r, z_steps)\n",
    "    X_a[-2] = 0\n",
    "    X_b[0] = 1\n",
    "    X_b[z_steps - 1] = 1\n",
    "    X_c[1] = 0\n",
    "    \n",
    "    W_values = W_vectorized(prevX, prevT)\n",
    "    X_d = -dt * W_values - prevX\n",
    "    T_d = Q * dt / C * W_values - prevT\n",
    "    \n",
    "    X_d[0] = 0\n",
    "    T_d[0] = Tm\n",
    "    T_d[z_steps - 1] = T0    \n",
    "    X_d[z_steps - 1] = 1\n",
    "    \n",
    "    newT = solve_banded((1, 1), np.array([T_c, T_b, T_a]), T_d, overwrite_ab=True, overwrite_b=True, check_finite=True)\n",
    "    newX = solve_banded((1, 1), np.array([X_c, X_b, X_a]), X_d, overwrite_ab=True, overwrite_b=True, check_finite=True)\n",
    "    return newT, newX"
   ]
  },
  {
   "cell_type": "code",
   "execution_count": 188,
   "metadata": {},
   "outputs": [],
   "source": [
    "import matplotlib.pyplot as plt\n",
    "from matplotlib.animation import FuncAnimation\n",
    "\n",
    "\n",
    "def create_animation(target, ymax):\n",
    "\n",
    "    fig = plt.figure()\n",
    "    ax = plt.axes(xlim=(a, b), ylim=(0, ymax))\n",
    "    \n",
    "    step = int(len(target) / 500)\n",
    "\n",
    "    line, = ax.plot([], [])\n",
    "\n",
    "    def init():\n",
    "        line.set_data([], [])\n",
    "        return line,\n",
    "\n",
    "    def animate(i):\n",
    "        z = np.linspace(a, b, 300)\n",
    "        T = target[i * step]\n",
    "        line.set_data(z, T)\n",
    "        return line,\n",
    "    \n",
    "    \n",
    "    anim = FuncAnimation(fig, animate, init_func=init, frames=490, interval=30)\n",
    "\n",
    "    return anim\n",
    "\n",
    "def create_sequential(target, name, charts_number):\n",
    "    step = int(len(target) / charts_number)\n",
    "    for i in range(charts_number):\n",
    "#         print(i * step)\n",
    "        plt.plot(np.linspace(a, b, 300), target[i * step], color='red')\n",
    "    plt.ylabel('target')\n",
    "    plt.xlabel('z')\n",
    "    plt.savefig(name + '.png')\n",
    "    plt.show()    \n"
   ]
  },
  {
   "cell_type": "code",
   "execution_count": 197,
   "metadata": {},
   "outputs": [],
   "source": [
    "\n",
    "def run(mode, s=False, a=False, i=False):\n",
    "    init_basic(mode)\n",
    "    if s:\n",
    "        print('Solving...')\n",
    "        Ts, Xs = solve(implicit)\n",
    "    if a:\n",
    "        T_from_z = create_animation(Ts, 700)\n",
    "        print('Saving animations...')\n",
    "        T_from_z.save('t_from_z_{}.gif'.format(mode), writer='imagemagick')\n",
    "        X_from_z = create_animation(Xs, 1.2)\n",
    "        X_from_z.save('x_from_z_{}.gif'.format(mode), writer='imagemagick')\n",
    "\n",
    "    if i:\n",
    "        print('Drawing plots...')\n",
    "        create_sequential(Ts, mode + '_Ts', 100)\n",
    "        create_sequential(Xs, mode + '_Xs', 100)\n",
    "    print('Done')\n",
    "    return Ts, Xs"
   ]
  },
  {
   "cell_type": "code",
   "execution_count": 207,
   "metadata": {},
   "outputs": [
    {
     "name": "stdout",
     "output_type": "stream",
     "text": [
      "0.08 0.07870678694678211\n",
      "0.00021850815738610585\n",
      "0.0001016430769230769 0.5398485148070851\n"
     ]
    }
   ],
   "source": [
    "print(r_X, r_T)\n",
    "print(delta_r)\n",
    "print(Le, K*np.exp(-E/(R*Tm)))"
   ]
  },
  {
   "cell_type": "code",
   "execution_count": 206,
   "metadata": {},
   "outputs": [
    {
     "name": "stdout",
     "output_type": "stream",
     "text": [
      "Solving...\n"
     ]
    },
    {
     "name": "stderr",
     "output_type": "stream",
     "text": [
      "/usr/local/lib/python3.7/site-packages/ipykernel_launcher.py:2: RuntimeWarning: invalid value encountered in power\n",
      "  \n"
     ]
    },
    {
     "ename": "ValueError",
     "evalue": "array must not contain infs or NaNs",
     "output_type": "error",
     "traceback": [
      "\u001b[0;31m---------------------------------------------------------------------------\u001b[0m",
      "\u001b[0;31mValueError\u001b[0m                                Traceback (most recent call last)",
      "\u001b[0;32m<ipython-input-206-36101d5ac439>\u001b[0m in \u001b[0;36m<module>\u001b[0;34m\u001b[0m\n\u001b[0;32m----> 1\u001b[0;31m \u001b[0mTs\u001b[0m\u001b[0;34m,\u001b[0m \u001b[0mXs\u001b[0m \u001b[0;34m=\u001b[0m \u001b[0mrun\u001b[0m\u001b[0;34m(\u001b[0m\u001b[0;34m'chaos'\u001b[0m\u001b[0;34m,\u001b[0m \u001b[0;32mTrue\u001b[0m\u001b[0;34m,\u001b[0m \u001b[0;32mTrue\u001b[0m\u001b[0;34m,\u001b[0m \u001b[0;32mFalse\u001b[0m\u001b[0;34m)\u001b[0m\u001b[0;34m\u001b[0m\u001b[0;34m\u001b[0m\u001b[0m\n\u001b[0m",
      "\u001b[0;32m<ipython-input-197-a7500c860af1>\u001b[0m in \u001b[0;36mrun\u001b[0;34m(mode, s, a, i)\u001b[0m\n\u001b[1;32m      3\u001b[0m     \u001b[0;32mif\u001b[0m \u001b[0ms\u001b[0m\u001b[0;34m:\u001b[0m\u001b[0;34m\u001b[0m\u001b[0;34m\u001b[0m\u001b[0m\n\u001b[1;32m      4\u001b[0m         \u001b[0mprint\u001b[0m\u001b[0;34m(\u001b[0m\u001b[0;34m'Solving...'\u001b[0m\u001b[0;34m)\u001b[0m\u001b[0;34m\u001b[0m\u001b[0;34m\u001b[0m\u001b[0m\n\u001b[0;32m----> 5\u001b[0;31m         \u001b[0mTs\u001b[0m\u001b[0;34m,\u001b[0m \u001b[0mXs\u001b[0m \u001b[0;34m=\u001b[0m \u001b[0msolve\u001b[0m\u001b[0;34m(\u001b[0m\u001b[0mimplicit\u001b[0m\u001b[0;34m)\u001b[0m\u001b[0;34m\u001b[0m\u001b[0;34m\u001b[0m\u001b[0m\n\u001b[0m\u001b[1;32m      6\u001b[0m     \u001b[0;32mif\u001b[0m \u001b[0ma\u001b[0m\u001b[0;34m:\u001b[0m\u001b[0;34m\u001b[0m\u001b[0;34m\u001b[0m\u001b[0m\n\u001b[1;32m      7\u001b[0m         \u001b[0mT_from_z\u001b[0m \u001b[0;34m=\u001b[0m \u001b[0mcreate_animation\u001b[0m\u001b[0;34m(\u001b[0m\u001b[0mTs\u001b[0m\u001b[0;34m,\u001b[0m \u001b[0;36m700\u001b[0m\u001b[0;34m)\u001b[0m\u001b[0;34m\u001b[0m\u001b[0;34m\u001b[0m\u001b[0m\n",
      "\u001b[0;32m<ipython-input-186-071dce50d42f>\u001b[0m in \u001b[0;36msolve\u001b[0;34m(solver)\u001b[0m\n\u001b[1;32m      7\u001b[0m \u001b[0;31m#         print(Xs[0], end='\\n\\n\\n')\u001b[0m\u001b[0;34m\u001b[0m\u001b[0;34m\u001b[0m\u001b[0;34m\u001b[0m\u001b[0m\n\u001b[1;32m      8\u001b[0m         \u001b[0mt\u001b[0m \u001b[0;34m=\u001b[0m \u001b[0mdt\u001b[0m \u001b[0;34m*\u001b[0m \u001b[0mcur_iter\u001b[0m\u001b[0;34m\u001b[0m\u001b[0;34m\u001b[0m\u001b[0m\n\u001b[0;32m----> 9\u001b[0;31m         \u001b[0mcur_t\u001b[0m\u001b[0;34m,\u001b[0m \u001b[0mcur_x\u001b[0m \u001b[0;34m=\u001b[0m \u001b[0msolver\u001b[0m\u001b[0;34m(\u001b[0m\u001b[0mt\u001b[0m\u001b[0;34m,\u001b[0m \u001b[0mTs\u001b[0m\u001b[0;34m[\u001b[0m\u001b[0;34m-\u001b[0m\u001b[0;36m1\u001b[0m\u001b[0;34m]\u001b[0m\u001b[0;34m,\u001b[0m \u001b[0mXs\u001b[0m\u001b[0;34m[\u001b[0m\u001b[0;34m-\u001b[0m\u001b[0;36m1\u001b[0m\u001b[0;34m]\u001b[0m\u001b[0;34m)\u001b[0m\u001b[0;34m\u001b[0m\u001b[0;34m\u001b[0m\u001b[0m\n\u001b[0m\u001b[1;32m     10\u001b[0m         \u001b[0mTs\u001b[0m\u001b[0;34m.\u001b[0m\u001b[0mappend\u001b[0m\u001b[0;34m(\u001b[0m\u001b[0mcur_t\u001b[0m\u001b[0;34m)\u001b[0m\u001b[0;34m\u001b[0m\u001b[0;34m\u001b[0m\u001b[0m\n\u001b[1;32m     11\u001b[0m         \u001b[0mXs\u001b[0m\u001b[0;34m.\u001b[0m\u001b[0mappend\u001b[0m\u001b[0;34m(\u001b[0m\u001b[0mcur_x\u001b[0m\u001b[0;34m)\u001b[0m\u001b[0;34m\u001b[0m\u001b[0;34m\u001b[0m\u001b[0m\n",
      "\u001b[0;32m<ipython-input-194-474943b65a61>\u001b[0m in \u001b[0;36mimplicit\u001b[0;34m(t, prevT, prevX)\u001b[0m\n\u001b[1;32m     28\u001b[0m     \u001b[0mX_d\u001b[0m\u001b[0;34m[\u001b[0m\u001b[0mz_steps\u001b[0m \u001b[0;34m-\u001b[0m \u001b[0;36m1\u001b[0m\u001b[0;34m]\u001b[0m \u001b[0;34m=\u001b[0m \u001b[0;36m1\u001b[0m\u001b[0;34m\u001b[0m\u001b[0;34m\u001b[0m\u001b[0m\n\u001b[1;32m     29\u001b[0m \u001b[0;34m\u001b[0m\u001b[0m\n\u001b[0;32m---> 30\u001b[0;31m     \u001b[0mnewT\u001b[0m \u001b[0;34m=\u001b[0m \u001b[0msolve_banded\u001b[0m\u001b[0;34m(\u001b[0m\u001b[0;34m(\u001b[0m\u001b[0;36m1\u001b[0m\u001b[0;34m,\u001b[0m \u001b[0;36m1\u001b[0m\u001b[0;34m)\u001b[0m\u001b[0;34m,\u001b[0m \u001b[0mnp\u001b[0m\u001b[0;34m.\u001b[0m\u001b[0marray\u001b[0m\u001b[0;34m(\u001b[0m\u001b[0;34m[\u001b[0m\u001b[0mT_c\u001b[0m\u001b[0;34m,\u001b[0m \u001b[0mT_b\u001b[0m\u001b[0;34m,\u001b[0m \u001b[0mT_a\u001b[0m\u001b[0;34m]\u001b[0m\u001b[0;34m)\u001b[0m\u001b[0;34m,\u001b[0m \u001b[0mT_d\u001b[0m\u001b[0;34m,\u001b[0m \u001b[0moverwrite_ab\u001b[0m\u001b[0;34m=\u001b[0m\u001b[0;32mTrue\u001b[0m\u001b[0;34m,\u001b[0m \u001b[0moverwrite_b\u001b[0m\u001b[0;34m=\u001b[0m\u001b[0;32mTrue\u001b[0m\u001b[0;34m,\u001b[0m \u001b[0mcheck_finite\u001b[0m\u001b[0;34m=\u001b[0m\u001b[0;32mTrue\u001b[0m\u001b[0;34m)\u001b[0m\u001b[0;34m\u001b[0m\u001b[0;34m\u001b[0m\u001b[0m\n\u001b[0m\u001b[1;32m     31\u001b[0m     \u001b[0mnewX\u001b[0m \u001b[0;34m=\u001b[0m \u001b[0msolve_banded\u001b[0m\u001b[0;34m(\u001b[0m\u001b[0;34m(\u001b[0m\u001b[0;36m1\u001b[0m\u001b[0;34m,\u001b[0m \u001b[0;36m1\u001b[0m\u001b[0;34m)\u001b[0m\u001b[0;34m,\u001b[0m \u001b[0mnp\u001b[0m\u001b[0;34m.\u001b[0m\u001b[0marray\u001b[0m\u001b[0;34m(\u001b[0m\u001b[0;34m[\u001b[0m\u001b[0mX_c\u001b[0m\u001b[0;34m,\u001b[0m \u001b[0mX_b\u001b[0m\u001b[0;34m,\u001b[0m \u001b[0mX_a\u001b[0m\u001b[0;34m]\u001b[0m\u001b[0;34m)\u001b[0m\u001b[0;34m,\u001b[0m \u001b[0mX_d\u001b[0m\u001b[0;34m,\u001b[0m \u001b[0moverwrite_ab\u001b[0m\u001b[0;34m=\u001b[0m\u001b[0;32mTrue\u001b[0m\u001b[0;34m,\u001b[0m \u001b[0moverwrite_b\u001b[0m\u001b[0;34m=\u001b[0m\u001b[0;32mTrue\u001b[0m\u001b[0;34m,\u001b[0m \u001b[0mcheck_finite\u001b[0m\u001b[0;34m=\u001b[0m\u001b[0;32mTrue\u001b[0m\u001b[0;34m)\u001b[0m\u001b[0;34m\u001b[0m\u001b[0;34m\u001b[0m\u001b[0m\n\u001b[1;32m     32\u001b[0m     \u001b[0;32mreturn\u001b[0m \u001b[0mnewT\u001b[0m\u001b[0;34m,\u001b[0m \u001b[0mnewX\u001b[0m\u001b[0;34m\u001b[0m\u001b[0;34m\u001b[0m\u001b[0m\n",
      "\u001b[0;32m/usr/local/lib/python3.7/site-packages/scipy/linalg/basic.py\u001b[0m in \u001b[0;36msolve_banded\u001b[0;34m(l_and_u, ab, b, overwrite_ab, overwrite_b, debug, check_finite)\u001b[0m\n\u001b[1;32m    437\u001b[0m \u001b[0;34m\u001b[0m\u001b[0m\n\u001b[1;32m    438\u001b[0m     \u001b[0ma1\u001b[0m \u001b[0;34m=\u001b[0m \u001b[0m_asarray_validated\u001b[0m\u001b[0;34m(\u001b[0m\u001b[0mab\u001b[0m\u001b[0;34m,\u001b[0m \u001b[0mcheck_finite\u001b[0m\u001b[0;34m=\u001b[0m\u001b[0mcheck_finite\u001b[0m\u001b[0;34m,\u001b[0m \u001b[0mas_inexact\u001b[0m\u001b[0;34m=\u001b[0m\u001b[0;32mTrue\u001b[0m\u001b[0;34m)\u001b[0m\u001b[0;34m\u001b[0m\u001b[0;34m\u001b[0m\u001b[0m\n\u001b[0;32m--> 439\u001b[0;31m     \u001b[0mb1\u001b[0m \u001b[0;34m=\u001b[0m \u001b[0m_asarray_validated\u001b[0m\u001b[0;34m(\u001b[0m\u001b[0mb\u001b[0m\u001b[0;34m,\u001b[0m \u001b[0mcheck_finite\u001b[0m\u001b[0;34m=\u001b[0m\u001b[0mcheck_finite\u001b[0m\u001b[0;34m,\u001b[0m \u001b[0mas_inexact\u001b[0m\u001b[0;34m=\u001b[0m\u001b[0;32mTrue\u001b[0m\u001b[0;34m)\u001b[0m\u001b[0;34m\u001b[0m\u001b[0;34m\u001b[0m\u001b[0m\n\u001b[0m\u001b[1;32m    440\u001b[0m     \u001b[0;31m# Validate shapes.\u001b[0m\u001b[0;34m\u001b[0m\u001b[0;34m\u001b[0m\u001b[0;34m\u001b[0m\u001b[0m\n\u001b[1;32m    441\u001b[0m     \u001b[0;32mif\u001b[0m \u001b[0ma1\u001b[0m\u001b[0;34m.\u001b[0m\u001b[0mshape\u001b[0m\u001b[0;34m[\u001b[0m\u001b[0;34m-\u001b[0m\u001b[0;36m1\u001b[0m\u001b[0;34m]\u001b[0m \u001b[0;34m!=\u001b[0m \u001b[0mb1\u001b[0m\u001b[0;34m.\u001b[0m\u001b[0mshape\u001b[0m\u001b[0;34m[\u001b[0m\u001b[0;36m0\u001b[0m\u001b[0;34m]\u001b[0m\u001b[0;34m:\u001b[0m\u001b[0;34m\u001b[0m\u001b[0;34m\u001b[0m\u001b[0m\n",
      "\u001b[0;32m/usr/local/lib/python3.7/site-packages/scipy/_lib/_util.py\u001b[0m in \u001b[0;36m_asarray_validated\u001b[0;34m(a, check_finite, sparse_ok, objects_ok, mask_ok, as_inexact)\u001b[0m\n\u001b[1;32m    244\u001b[0m             \u001b[0;32mraise\u001b[0m \u001b[0mValueError\u001b[0m\u001b[0;34m(\u001b[0m\u001b[0;34m'masked arrays are not supported'\u001b[0m\u001b[0;34m)\u001b[0m\u001b[0;34m\u001b[0m\u001b[0;34m\u001b[0m\u001b[0m\n\u001b[1;32m    245\u001b[0m     \u001b[0mtoarray\u001b[0m \u001b[0;34m=\u001b[0m \u001b[0mnp\u001b[0m\u001b[0;34m.\u001b[0m\u001b[0masarray_chkfinite\u001b[0m \u001b[0;32mif\u001b[0m \u001b[0mcheck_finite\u001b[0m \u001b[0;32melse\u001b[0m \u001b[0mnp\u001b[0m\u001b[0;34m.\u001b[0m\u001b[0masarray\u001b[0m\u001b[0;34m\u001b[0m\u001b[0;34m\u001b[0m\u001b[0m\n\u001b[0;32m--> 246\u001b[0;31m     \u001b[0ma\u001b[0m \u001b[0;34m=\u001b[0m \u001b[0mtoarray\u001b[0m\u001b[0;34m(\u001b[0m\u001b[0ma\u001b[0m\u001b[0;34m)\u001b[0m\u001b[0;34m\u001b[0m\u001b[0;34m\u001b[0m\u001b[0m\n\u001b[0m\u001b[1;32m    247\u001b[0m     \u001b[0;32mif\u001b[0m \u001b[0;32mnot\u001b[0m \u001b[0mobjects_ok\u001b[0m\u001b[0;34m:\u001b[0m\u001b[0;34m\u001b[0m\u001b[0;34m\u001b[0m\u001b[0m\n\u001b[1;32m    248\u001b[0m         \u001b[0;32mif\u001b[0m \u001b[0ma\u001b[0m\u001b[0;34m.\u001b[0m\u001b[0mdtype\u001b[0m \u001b[0;32mis\u001b[0m \u001b[0mnp\u001b[0m\u001b[0;34m.\u001b[0m\u001b[0mdtype\u001b[0m\u001b[0;34m(\u001b[0m\u001b[0;34m'O'\u001b[0m\u001b[0;34m)\u001b[0m\u001b[0;34m:\u001b[0m\u001b[0;34m\u001b[0m\u001b[0;34m\u001b[0m\u001b[0m\n",
      "\u001b[0;32m/usr/local/lib/python3.7/site-packages/numpy/lib/function_base.py\u001b[0m in \u001b[0;36masarray_chkfinite\u001b[0;34m(a, dtype, order)\u001b[0m\n\u001b[1;32m    497\u001b[0m     \u001b[0;32mif\u001b[0m \u001b[0ma\u001b[0m\u001b[0;34m.\u001b[0m\u001b[0mdtype\u001b[0m\u001b[0;34m.\u001b[0m\u001b[0mchar\u001b[0m \u001b[0;32min\u001b[0m \u001b[0mtypecodes\u001b[0m\u001b[0;34m[\u001b[0m\u001b[0;34m'AllFloat'\u001b[0m\u001b[0;34m]\u001b[0m \u001b[0;32mand\u001b[0m \u001b[0;32mnot\u001b[0m \u001b[0mnp\u001b[0m\u001b[0;34m.\u001b[0m\u001b[0misfinite\u001b[0m\u001b[0;34m(\u001b[0m\u001b[0ma\u001b[0m\u001b[0;34m)\u001b[0m\u001b[0;34m.\u001b[0m\u001b[0mall\u001b[0m\u001b[0;34m(\u001b[0m\u001b[0;34m)\u001b[0m\u001b[0;34m:\u001b[0m\u001b[0;34m\u001b[0m\u001b[0;34m\u001b[0m\u001b[0m\n\u001b[1;32m    498\u001b[0m         raise ValueError(\n\u001b[0;32m--> 499\u001b[0;31m             \"array must not contain infs or NaNs\")\n\u001b[0m\u001b[1;32m    500\u001b[0m     \u001b[0;32mreturn\u001b[0m \u001b[0ma\u001b[0m\u001b[0;34m\u001b[0m\u001b[0;34m\u001b[0m\u001b[0m\n\u001b[1;32m    501\u001b[0m \u001b[0;34m\u001b[0m\u001b[0m\n",
      "\u001b[0;31mValueError\u001b[0m: array must not contain infs or NaNs"
     ]
    }
   ],
   "source": [
    "Ts, Xs = run('chaos', True, True, False)"
   ]
  },
  {
   "cell_type": "code",
   "execution_count": 168,
   "metadata": {
    "collapsed": true
   },
   "outputs": [
    {
     "data": {
      "text/plain": [
       "array([644.75879397, 644.81662646, 644.8104941 , 644.44861377,\n",
       "       643.16023233, 640.17062681, 634.6700331 , 626.07805633,\n",
       "       614.29756122, 599.78133312, 583.34860167, 565.89236115,\n",
       "       548.16251485, 530.68816661, 513.79628277, 497.66545477,\n",
       "       482.37833415, 467.96050237, 454.40566942, 441.69076519,\n",
       "       429.78451158, 418.65209838, 408.25764033, 398.56541384,\n",
       "       389.54044151, 381.14873885, 373.3573928 , 366.13456228,\n",
       "       359.44944743, 353.27225087, 347.57414227, 342.32723064,\n",
       "       337.50454561, 333.08002709, 329.0285222 , 325.32578754,\n",
       "       321.94849537, 318.87424193, 316.08155645, 313.54990958,\n",
       "       311.25972033, 309.19236033, 307.33015511, 305.65638172,\n",
       "       304.15526248, 302.81195466, 301.6125362 , 300.54398746,\n",
       "       299.59416928, 298.7517976 , 298.00641512, 297.34836009,\n",
       "       296.76873304, 296.25936157, 295.81276375, 295.42211061,\n",
       "       295.08118799, 294.78435833, 294.5265225 , 294.30308227,\n",
       "       294.10990346, 293.94328019, 293.79990037, 293.67681258,\n",
       "       293.57139453, 293.48132319, 293.40454665, 293.3392577 ,\n",
       "       293.28386929, 293.23699171, 293.19741154, 293.16407232,\n",
       "       293.13605686, 293.11257114, 293.09292969, 293.07654246,\n",
       "       293.06290292, 293.05157746, 293.04219595, 293.03444328,\n",
       "       293.02805198, 293.02279558, 293.0184829 , 293.01495297,\n",
       "       293.01207064, 293.00972274, 293.00781474, 293.00626794,\n",
       "       293.00501697, 293.00400767, 293.0031953 , 293.002543  ,\n",
       "       293.00202049, 293.00160295, 293.00127008, 293.00100535,\n",
       "       293.00079532, 293.00062908, 293.00049782, 293.00039443,\n",
       "       293.00031318, 293.00024949, 293.00019967, 293.00016081,\n",
       "       293.00013056, 293.00010707, 293.00008888, 293.00007482,\n",
       "       293.00006398, 293.00005565, 293.00004925, 293.00004436,\n",
       "       293.00004062, 293.00003777, 293.00003561, 293.00003397,\n",
       "       293.00003273, 293.00003179, 293.00003109, 293.00003056,\n",
       "       293.00003016, 293.00002987, 293.00002965, 293.00002948,\n",
       "       293.00002936, 293.00002927, 293.0000292 , 293.00002916,\n",
       "       293.00002912, 293.00002909, 293.00002907, 293.00002906,\n",
       "       293.00002905, 293.00002904, 293.00002904, 293.00002903,\n",
       "       293.00002903, 293.00002903, 293.00002903, 293.00002903,\n",
       "       293.00002902, 293.00002902, 293.00002902, 293.00002902,\n",
       "       293.00002902, 293.00002902, 293.00002902, 293.00002902,\n",
       "       293.00002902, 293.00002902, 293.00002902, 293.00002902,\n",
       "       293.00002902, 293.00002902, 293.00002902, 293.00002902,\n",
       "       293.00002902, 293.00002902, 293.00002902, 293.00002902,\n",
       "       293.00002902, 293.00002902, 293.00002902, 293.00002902,\n",
       "       293.00002902, 293.00002902, 293.00002902, 293.00002902,\n",
       "       293.00002902, 293.00002902, 293.00002902, 293.00002902,\n",
       "       293.00002902, 293.00002902, 293.00002902, 293.00002902,\n",
       "       293.00002902, 293.00002902, 293.00002902, 293.00002902,\n",
       "       293.00002902, 293.00002902, 293.00002902, 293.00002902,\n",
       "       293.00002902, 293.00002902, 293.00002902, 293.00002902,\n",
       "       293.00002902, 293.00002902, 293.00002902, 293.00002902,\n",
       "       293.00002902, 293.00002902, 293.00002902, 293.00002902,\n",
       "       293.00002902, 293.00002902, 293.00002902, 293.00002902,\n",
       "       293.00002902, 293.00002902, 293.00002902, 293.00002902,\n",
       "       293.00002902, 293.00002902, 293.00002902, 293.00002902,\n",
       "       293.00002902, 293.00002902, 293.00002902, 293.00002902,\n",
       "       293.00002902, 293.00002902, 293.00002902, 293.00002902,\n",
       "       293.00002902, 293.00002902, 293.00002902, 293.00002902,\n",
       "       293.00002902, 293.00002902, 293.00002902, 293.00002902,\n",
       "       293.00002902, 293.00002902, 293.00002902, 293.00002902,\n",
       "       293.00002902, 293.00002902, 293.00002902, 293.00002902,\n",
       "       293.00002902, 293.00002902, 293.00002902, 293.00002902,\n",
       "       293.00002902, 293.00002902, 293.00002902, 293.00002902,\n",
       "       293.00002902, 293.00002902, 293.00002902, 293.00002902,\n",
       "       293.00002902, 293.00002902, 293.00002902, 293.00002902,\n",
       "       293.00002902, 293.00002902, 293.00002902, 293.00002902,\n",
       "       293.00002902, 293.00002902, 293.00002902, 293.00002902,\n",
       "       293.00002902, 293.00002902, 293.00002902, 293.00002902,\n",
       "       293.00002902, 293.00002902, 293.00002902, 293.00002902,\n",
       "       293.00002902, 293.00002902, 293.00002902, 293.00002902,\n",
       "       293.00002902, 293.00002902, 293.00002902, 293.00002902,\n",
       "       293.00002902, 293.00002902, 293.00002902, 293.00002902,\n",
       "       293.00002902, 293.00002902, 293.00002902, 293.00002902,\n",
       "       293.00002902, 293.00002902, 293.00002902, 293.00002902,\n",
       "       293.00002902, 293.00002902, 293.00002902, 293.00002902,\n",
       "       293.00002902, 293.00002902, 293.00002902, 293.00002902,\n",
       "       293.00002902, 293.00002902, 293.00002902, 293.00002902,\n",
       "       293.00002902, 293.00002902, 293.00002902, 293.00002902])"
      ]
     },
     "execution_count": 168,
     "metadata": {},
     "output_type": "execute_result"
    }
   ],
   "source": [
    "Ts[2600]"
   ]
  },
  {
   "cell_type": "code",
   "execution_count": 196,
   "metadata": {},
   "outputs": [
    {
     "data": {
      "image/png": "[encoded data removed]",
      "text/plain": [
       "<Figure size 432x288 with 1 Axes>"
      ]
     },
     "metadata": {
      "needs_background": "light"
     },
     "output_type": "display_data"
    }
   ],
   "source": [
    "create_sequential(Ts, 'Ts_regular', 100)\n",
    "# plt.plot(np.linspace(a, b, 300), Xs[2500])"
   ]
  },
  {
   "cell_type": "code",
   "execution_count": 184,
   "metadata": {},
   "outputs": [
    {
     "data": {
      "image/png": "[encoded data removed]",
      "text/plain": [
       "<Figure size 432x288 with 1 Axes>"
      ]
     },
     "metadata": {
      "needs_background": "light"
     },
     "output_type": "display_data"
    }
   ],
   "source": [
    "create_sequential(Xs, 'Xs_regular', 100)"
   ]
  },
  {
   "cell_type": "code",
   "execution_count": 181,
   "metadata": {},
   "outputs": [
    {
     "data": {
      "text/plain": [
       "2.379469583783956e-05"
      ]
     },
     "execution_count": 181,
     "metadata": {},
     "output_type": "execute_result"
    }
   ],
   "source": [
    "(2 * K * 0.13 / (Q * 830 * Q / C) * T0 / Tm * ((R * Tm * Tm / E) ** 2) * np.exp(-E / (R * Tm))) ** 0.5"
   ]
  }
 ],
 "metadata": {
  "kernelspec": {
   "display_name": "Python 3",
   "language": "python",
   "name": "python3"
  },
  "language_info": {
   "codemirror_mode": {
    "name": "ipython",
    "version": 3
   },
   "file_extension": ".py",
   "mimetype": "text/x-python",
   "name": "python",
   "nbconvert_exporter": "python",
   "pygments_lexer": "ipython3",
   "version": "3.7.6"
  }
 },
 "nbformat": 4,
 "nbformat_minor": 4
}
